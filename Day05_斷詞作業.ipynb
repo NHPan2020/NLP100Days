{
 "cells": [
  {
   "cell_type": "code",
   "execution_count": 1,
   "metadata": {},
   "outputs": [
    {
     "name": "stdout",
     "output_type": "stream",
     "text": [
      "['sunny', 'sunny', 'sunny', 0.031103999999999993]\n"
     ]
    }
   ],
   "source": [
    "def ConvertN(n, base, digits):\n",
    "    #利用數字系統轉換方式列出所有可能的排列組合\n",
    "    # n:要轉換的數, base:基底, digits:位元數(作業給3天的觀測值，故digits為3)\n",
    "    result=[]\n",
    "    if n<base:\n",
    "        result.append(str(n))\n",
    "    else:\n",
    "        while ((n//base)>=0 and n>0):\n",
    "            result.insert(0,str(n % base))\n",
    "            n=n//base    \n",
    "   \n",
    "    if len(result)<digits:\n",
    "        for i in range(digits-len(result)):\n",
    "            result.insert(0,'0')    \n",
    "    return result\n",
    "\n",
    "\n",
    "def viterbi(obs, states, start_p, trans_p, emit_p, comb):\n",
    "    #觀測值 dry, dry, dry\n",
    "    #先算第一天的啟始機率=初始機率x(觀測值 -> 實際現象的機率)\n",
    "    #例 第一天為sunny(0.4)* 觀測到dry，實際為sunny的機率(0.6)  假設組合為 sunny, sunny, sunny\n",
    "    for item in comb:\n",
    "        p=start_p[item[0]]*emit_p[item[0]][obs[0]]\n",
    "        item.append(p)\n",
    "    \n",
    "    #計算第二天到最後一天的機率並與第一天的機率相乘\n",
    "    #連乘 (前一天實際現象 -> 今天實際現象)機率 x (觀測值 -> 今天實際現象)機率\n",
    "    #假設組合為 sunny, sunny, sunny\n",
    "    #第二天，(前一天sunny -> 今天 sunny)X(觀測到dry -> 今天sunny) =0.6*0.6\n",
    "    #第三天相同\n",
    "    \n",
    "    max_prob=0\n",
    "    for item in comb:        \n",
    "        p=item[len(item)-1]\n",
    "        for i in range(1,len(obs),1):\n",
    "            p=p*trans_p[item[i-1]][item[i]]*emit_p[item[i]][obs[i]]\n",
    "        item[len(item)-1]=p\n",
    "        if p> max_prob:\n",
    "            max_prob=p\n",
    "            ans=item\n",
    "    \n",
    "    return ans\n",
    "    \n",
    "    \n",
    "\n",
    "observations = ('dry', 'dry', 'dry') \n",
    "#states = ('sunny', 'rainy')\n",
    "start_probability = {'sunny': 0.4, 'rainy': 0.6}\n",
    "transition_probability = {'sunny':{'sunny':0.6, 'rainy':0.4},\n",
    "                          'rainy': {'sunny':0.3, 'rainy':0.7}}\n",
    "emission_probatility = {'sunny': {'dry':0.6, 'damp':0.3, 'soggy':0.1},\n",
    "                        'rainy': {'dry':0.1, 'damp':0.4, 'soggy':0.5}}\n",
    "\n",
    "states={'0':'sunny', '1':'rainy'}\n",
    "combination=[]\n",
    "for i in range(len(states)**len(observations)):\n",
    "    lst=ConvertN(i, 2, 3)\n",
    "    for j in range(len(lst)) :\n",
    "        lst[j]=states[lst[j]]\n",
    "    combination.append(lst)  \n",
    "\n",
    "ans=viterbi(observations, states, start_probability , transition_probability, emission_probatility, combination)\n",
    "print(ans)\n"
   ]
  },
  {
   "cell_type": "code",
   "execution_count": null,
   "metadata": {},
   "outputs": [],
   "source": []
  }
 ],
 "metadata": {
  "kernelspec": {
   "display_name": "Python 3",
   "language": "python",
   "name": "python3"
  },
  "language_info": {
   "codemirror_mode": {
    "name": "ipython",
    "version": 3
   },
   "file_extension": ".py",
   "mimetype": "text/x-python",
   "name": "python",
   "nbconvert_exporter": "python",
   "pygments_lexer": "ipython3",
   "version": "3.7.6"
  }
 },
 "nbformat": 4,
 "nbformat_minor": 4
}
